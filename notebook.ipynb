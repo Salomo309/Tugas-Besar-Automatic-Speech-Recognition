{
  "nbformat": 4,
  "nbformat_minor": 0,
  "metadata": {
    "colab": {
      "provenance": [],
      "gpuType": "T4",
      "toc_visible": true
    },
    "kernelspec": {
      "name": "python3",
      "display_name": "Python 3"
    },
    "language_info": {
      "name": "python"
    },
    "accelerator": "GPU",
    "widgets": {
      "application/vnd.jupyter.widget-state+json": {
        "66be6e68517e439eadd465982684e976": {
          "model_module": "@jupyter-widgets/controls",
          "model_name": "HBoxModel",
          "model_module_version": "1.5.0",
          "state": {
            "_dom_classes": [],
            "_model_module": "@jupyter-widgets/controls",
            "_model_module_version": "1.5.0",
            "_model_name": "HBoxModel",
            "_view_count": null,
            "_view_module": "@jupyter-widgets/controls",
            "_view_module_version": "1.5.0",
            "_view_name": "HBoxView",
            "box_style": "",
            "children": [
              "IPY_MODEL_385ec3e25f4c4d289c7cd4222945208d",
              "IPY_MODEL_57f3ab8739594181838273e029d53183",
              "IPY_MODEL_51c099560d624e99b9da1a6e06a27093"
            ],
            "layout": "IPY_MODEL_ad38617feed541a0b6d63c47111cb670"
          }
        },
        "385ec3e25f4c4d289c7cd4222945208d": {
          "model_module": "@jupyter-widgets/controls",
          "model_name": "HTMLModel",
          "model_module_version": "1.5.0",
          "state": {
            "_dom_classes": [],
            "_model_module": "@jupyter-widgets/controls",
            "_model_module_version": "1.5.0",
            "_model_name": "HTMLModel",
            "_view_count": null,
            "_view_module": "@jupyter-widgets/controls",
            "_view_module_version": "1.5.0",
            "_view_name": "HTMLView",
            "description": "",
            "description_tooltip": null,
            "layout": "IPY_MODEL_962ff97f17044b628a7fdae6a2740dc6",
            "placeholder": "​",
            "style": "IPY_MODEL_85bfdc3f45a54d4cb937a311dbded20f",
            "value": "Map: 100%"
          }
        },
        "57f3ab8739594181838273e029d53183": {
          "model_module": "@jupyter-widgets/controls",
          "model_name": "FloatProgressModel",
          "model_module_version": "1.5.0",
          "state": {
            "_dom_classes": [],
            "_model_module": "@jupyter-widgets/controls",
            "_model_module_version": "1.5.0",
            "_model_name": "FloatProgressModel",
            "_view_count": null,
            "_view_module": "@jupyter-widgets/controls",
            "_view_module_version": "1.5.0",
            "_view_name": "ProgressView",
            "bar_style": "success",
            "description": "",
            "description_tooltip": null,
            "layout": "IPY_MODEL_e38c25d8abf2455cbb2f4c8877be9eb3",
            "max": 207,
            "min": 0,
            "orientation": "horizontal",
            "style": "IPY_MODEL_5d4b9fe91bc041d5b6c10f46bf20f3ad",
            "value": 207
          }
        },
        "51c099560d624e99b9da1a6e06a27093": {
          "model_module": "@jupyter-widgets/controls",
          "model_name": "HTMLModel",
          "model_module_version": "1.5.0",
          "state": {
            "_dom_classes": [],
            "_model_module": "@jupyter-widgets/controls",
            "_model_module_version": "1.5.0",
            "_model_name": "HTMLModel",
            "_view_count": null,
            "_view_module": "@jupyter-widgets/controls",
            "_view_module_version": "1.5.0",
            "_view_name": "HTMLView",
            "description": "",
            "description_tooltip": null,
            "layout": "IPY_MODEL_b23a3c2aa2b24244b0ae9d88a9c1614b",
            "placeholder": "​",
            "style": "IPY_MODEL_64dd4abe0d7e461c807dde0b0acbcd87",
            "value": " 207/207 [00:34&lt;00:00, 11.65 examples/s]"
          }
        },
        "ad38617feed541a0b6d63c47111cb670": {
          "model_module": "@jupyter-widgets/base",
          "model_name": "LayoutModel",
          "model_module_version": "1.2.0",
          "state": {
            "_model_module": "@jupyter-widgets/base",
            "_model_module_version": "1.2.0",
            "_model_name": "LayoutModel",
            "_view_count": null,
            "_view_module": "@jupyter-widgets/base",
            "_view_module_version": "1.2.0",
            "_view_name": "LayoutView",
            "align_content": null,
            "align_items": null,
            "align_self": null,
            "border": null,
            "bottom": null,
            "display": null,
            "flex": null,
            "flex_flow": null,
            "grid_area": null,
            "grid_auto_columns": null,
            "grid_auto_flow": null,
            "grid_auto_rows": null,
            "grid_column": null,
            "grid_gap": null,
            "grid_row": null,
            "grid_template_areas": null,
            "grid_template_columns": null,
            "grid_template_rows": null,
            "height": null,
            "justify_content": null,
            "justify_items": null,
            "left": null,
            "margin": null,
            "max_height": null,
            "max_width": null,
            "min_height": null,
            "min_width": null,
            "object_fit": null,
            "object_position": null,
            "order": null,
            "overflow": null,
            "overflow_x": null,
            "overflow_y": null,
            "padding": null,
            "right": null,
            "top": null,
            "visibility": null,
            "width": null
          }
        },
        "962ff97f17044b628a7fdae6a2740dc6": {
          "model_module": "@jupyter-widgets/base",
          "model_name": "LayoutModel",
          "model_module_version": "1.2.0",
          "state": {
            "_model_module": "@jupyter-widgets/base",
            "_model_module_version": "1.2.0",
            "_model_name": "LayoutModel",
            "_view_count": null,
            "_view_module": "@jupyter-widgets/base",
            "_view_module_version": "1.2.0",
            "_view_name": "LayoutView",
            "align_content": null,
            "align_items": null,
            "align_self": null,
            "border": null,
            "bottom": null,
            "display": null,
            "flex": null,
            "flex_flow": null,
            "grid_area": null,
            "grid_auto_columns": null,
            "grid_auto_flow": null,
            "grid_auto_rows": null,
            "grid_column": null,
            "grid_gap": null,
            "grid_row": null,
            "grid_template_areas": null,
            "grid_template_columns": null,
            "grid_template_rows": null,
            "height": null,
            "justify_content": null,
            "justify_items": null,
            "left": null,
            "margin": null,
            "max_height": null,
            "max_width": null,
            "min_height": null,
            "min_width": null,
            "object_fit": null,
            "object_position": null,
            "order": null,
            "overflow": null,
            "overflow_x": null,
            "overflow_y": null,
            "padding": null,
            "right": null,
            "top": null,
            "visibility": null,
            "width": null
          }
        },
        "85bfdc3f45a54d4cb937a311dbded20f": {
          "model_module": "@jupyter-widgets/controls",
          "model_name": "DescriptionStyleModel",
          "model_module_version": "1.5.0",
          "state": {
            "_model_module": "@jupyter-widgets/controls",
            "_model_module_version": "1.5.0",
            "_model_name": "DescriptionStyleModel",
            "_view_count": null,
            "_view_module": "@jupyter-widgets/base",
            "_view_module_version": "1.2.0",
            "_view_name": "StyleView",
            "description_width": ""
          }
        },
        "e38c25d8abf2455cbb2f4c8877be9eb3": {
          "model_module": "@jupyter-widgets/base",
          "model_name": "LayoutModel",
          "model_module_version": "1.2.0",
          "state": {
            "_model_module": "@jupyter-widgets/base",
            "_model_module_version": "1.2.0",
            "_model_name": "LayoutModel",
            "_view_count": null,
            "_view_module": "@jupyter-widgets/base",
            "_view_module_version": "1.2.0",
            "_view_name": "LayoutView",
            "align_content": null,
            "align_items": null,
            "align_self": null,
            "border": null,
            "bottom": null,
            "display": null,
            "flex": null,
            "flex_flow": null,
            "grid_area": null,
            "grid_auto_columns": null,
            "grid_auto_flow": null,
            "grid_auto_rows": null,
            "grid_column": null,
            "grid_gap": null,
            "grid_row": null,
            "grid_template_areas": null,
            "grid_template_columns": null,
            "grid_template_rows": null,
            "height": null,
            "justify_content": null,
            "justify_items": null,
            "left": null,
            "margin": null,
            "max_height": null,
            "max_width": null,
            "min_height": null,
            "min_width": null,
            "object_fit": null,
            "object_position": null,
            "order": null,
            "overflow": null,
            "overflow_x": null,
            "overflow_y": null,
            "padding": null,
            "right": null,
            "top": null,
            "visibility": null,
            "width": null
          }
        },
        "5d4b9fe91bc041d5b6c10f46bf20f3ad": {
          "model_module": "@jupyter-widgets/controls",
          "model_name": "ProgressStyleModel",
          "model_module_version": "1.5.0",
          "state": {
            "_model_module": "@jupyter-widgets/controls",
            "_model_module_version": "1.5.0",
            "_model_name": "ProgressStyleModel",
            "_view_count": null,
            "_view_module": "@jupyter-widgets/base",
            "_view_module_version": "1.2.0",
            "_view_name": "StyleView",
            "bar_color": null,
            "description_width": ""
          }
        },
        "b23a3c2aa2b24244b0ae9d88a9c1614b": {
          "model_module": "@jupyter-widgets/base",
          "model_name": "LayoutModel",
          "model_module_version": "1.2.0",
          "state": {
            "_model_module": "@jupyter-widgets/base",
            "_model_module_version": "1.2.0",
            "_model_name": "LayoutModel",
            "_view_count": null,
            "_view_module": "@jupyter-widgets/base",
            "_view_module_version": "1.2.0",
            "_view_name": "LayoutView",
            "align_content": null,
            "align_items": null,
            "align_self": null,
            "border": null,
            "bottom": null,
            "display": null,
            "flex": null,
            "flex_flow": null,
            "grid_area": null,
            "grid_auto_columns": null,
            "grid_auto_flow": null,
            "grid_auto_rows": null,
            "grid_column": null,
            "grid_gap": null,
            "grid_row": null,
            "grid_template_areas": null,
            "grid_template_columns": null,
            "grid_template_rows": null,
            "height": null,
            "justify_content": null,
            "justify_items": null,
            "left": null,
            "margin": null,
            "max_height": null,
            "max_width": null,
            "min_height": null,
            "min_width": null,
            "object_fit": null,
            "object_position": null,
            "order": null,
            "overflow": null,
            "overflow_x": null,
            "overflow_y": null,
            "padding": null,
            "right": null,
            "top": null,
            "visibility": null,
            "width": null
          }
        },
        "64dd4abe0d7e461c807dde0b0acbcd87": {
          "model_module": "@jupyter-widgets/controls",
          "model_name": "DescriptionStyleModel",
          "model_module_version": "1.5.0",
          "state": {
            "_model_module": "@jupyter-widgets/controls",
            "_model_module_version": "1.5.0",
            "_model_name": "DescriptionStyleModel",
            "_view_count": null,
            "_view_module": "@jupyter-widgets/base",
            "_view_module_version": "1.2.0",
            "_view_name": "StyleView",
            "description_width": ""
          }
        },
        "c8b4f1d9a1df45169590e18b4e0b6f02": {
          "model_module": "@jupyter-widgets/controls",
          "model_name": "HBoxModel",
          "model_module_version": "1.5.0",
          "state": {
            "_dom_classes": [],
            "_model_module": "@jupyter-widgets/controls",
            "_model_module_version": "1.5.0",
            "_model_name": "HBoxModel",
            "_view_count": null,
            "_view_module": "@jupyter-widgets/controls",
            "_view_module_version": "1.5.0",
            "_view_name": "HBoxView",
            "box_style": "",
            "children": [
              "IPY_MODEL_8c87f54c0afd49e0ba8e7087b46b9b2e",
              "IPY_MODEL_bbca26113fb54e0285da53fb964dd459",
              "IPY_MODEL_73a7a0edbe964a84b3f4ad7a9e52824b"
            ],
            "layout": "IPY_MODEL_c6d8df31d8374d1d969dd951d37fc68d"
          }
        },
        "8c87f54c0afd49e0ba8e7087b46b9b2e": {
          "model_module": "@jupyter-widgets/controls",
          "model_name": "HTMLModel",
          "model_module_version": "1.5.0",
          "state": {
            "_dom_classes": [],
            "_model_module": "@jupyter-widgets/controls",
            "_model_module_version": "1.5.0",
            "_model_name": "HTMLModel",
            "_view_count": null,
            "_view_module": "@jupyter-widgets/controls",
            "_view_module_version": "1.5.0",
            "_view_name": "HTMLView",
            "description": "",
            "description_tooltip": null,
            "layout": "IPY_MODEL_2019e8772f9a4489a5335b5c9b5b1279",
            "placeholder": "​",
            "style": "IPY_MODEL_11706b041a5740f2b53495ae1fbf5402",
            "value": "Map: 100%"
          }
        },
        "bbca26113fb54e0285da53fb964dd459": {
          "model_module": "@jupyter-widgets/controls",
          "model_name": "FloatProgressModel",
          "model_module_version": "1.5.0",
          "state": {
            "_dom_classes": [],
            "_model_module": "@jupyter-widgets/controls",
            "_model_module_version": "1.5.0",
            "_model_name": "FloatProgressModel",
            "_view_count": null,
            "_view_module": "@jupyter-widgets/controls",
            "_view_module_version": "1.5.0",
            "_view_name": "ProgressView",
            "bar_style": "success",
            "description": "",
            "description_tooltip": null,
            "layout": "IPY_MODEL_c3e0454dfc2b49b3afa1a1034221adcb",
            "max": 51,
            "min": 0,
            "orientation": "horizontal",
            "style": "IPY_MODEL_e4c5f0ae3a764be191355630aafcc667",
            "value": 51
          }
        },
        "73a7a0edbe964a84b3f4ad7a9e52824b": {
          "model_module": "@jupyter-widgets/controls",
          "model_name": "HTMLModel",
          "model_module_version": "1.5.0",
          "state": {
            "_dom_classes": [],
            "_model_module": "@jupyter-widgets/controls",
            "_model_module_version": "1.5.0",
            "_model_name": "HTMLModel",
            "_view_count": null,
            "_view_module": "@jupyter-widgets/controls",
            "_view_module_version": "1.5.0",
            "_view_name": "HTMLView",
            "description": "",
            "description_tooltip": null,
            "layout": "IPY_MODEL_fd4e77d66a1945d58b363546b448cd3d",
            "placeholder": "​",
            "style": "IPY_MODEL_0bb98dab14264b42a56abb262c4a753f",
            "value": " 51/51 [00:08&lt;00:00,  8.82 examples/s]"
          }
        },
        "c6d8df31d8374d1d969dd951d37fc68d": {
          "model_module": "@jupyter-widgets/base",
          "model_name": "LayoutModel",
          "model_module_version": "1.2.0",
          "state": {
            "_model_module": "@jupyter-widgets/base",
            "_model_module_version": "1.2.0",
            "_model_name": "LayoutModel",
            "_view_count": null,
            "_view_module": "@jupyter-widgets/base",
            "_view_module_version": "1.2.0",
            "_view_name": "LayoutView",
            "align_content": null,
            "align_items": null,
            "align_self": null,
            "border": null,
            "bottom": null,
            "display": null,
            "flex": null,
            "flex_flow": null,
            "grid_area": null,
            "grid_auto_columns": null,
            "grid_auto_flow": null,
            "grid_auto_rows": null,
            "grid_column": null,
            "grid_gap": null,
            "grid_row": null,
            "grid_template_areas": null,
            "grid_template_columns": null,
            "grid_template_rows": null,
            "height": null,
            "justify_content": null,
            "justify_items": null,
            "left": null,
            "margin": null,
            "max_height": null,
            "max_width": null,
            "min_height": null,
            "min_width": null,
            "object_fit": null,
            "object_position": null,
            "order": null,
            "overflow": null,
            "overflow_x": null,
            "overflow_y": null,
            "padding": null,
            "right": null,
            "top": null,
            "visibility": null,
            "width": null
          }
        },
        "2019e8772f9a4489a5335b5c9b5b1279": {
          "model_module": "@jupyter-widgets/base",
          "model_name": "LayoutModel",
          "model_module_version": "1.2.0",
          "state": {
            "_model_module": "@jupyter-widgets/base",
            "_model_module_version": "1.2.0",
            "_model_name": "LayoutModel",
            "_view_count": null,
            "_view_module": "@jupyter-widgets/base",
            "_view_module_version": "1.2.0",
            "_view_name": "LayoutView",
            "align_content": null,
            "align_items": null,
            "align_self": null,
            "border": null,
            "bottom": null,
            "display": null,
            "flex": null,
            "flex_flow": null,
            "grid_area": null,
            "grid_auto_columns": null,
            "grid_auto_flow": null,
            "grid_auto_rows": null,
            "grid_column": null,
            "grid_gap": null,
            "grid_row": null,
            "grid_template_areas": null,
            "grid_template_columns": null,
            "grid_template_rows": null,
            "height": null,
            "justify_content": null,
            "justify_items": null,
            "left": null,
            "margin": null,
            "max_height": null,
            "max_width": null,
            "min_height": null,
            "min_width": null,
            "object_fit": null,
            "object_position": null,
            "order": null,
            "overflow": null,
            "overflow_x": null,
            "overflow_y": null,
            "padding": null,
            "right": null,
            "top": null,
            "visibility": null,
            "width": null
          }
        },
        "11706b041a5740f2b53495ae1fbf5402": {
          "model_module": "@jupyter-widgets/controls",
          "model_name": "DescriptionStyleModel",
          "model_module_version": "1.5.0",
          "state": {
            "_model_module": "@jupyter-widgets/controls",
            "_model_module_version": "1.5.0",
            "_model_name": "DescriptionStyleModel",
            "_view_count": null,
            "_view_module": "@jupyter-widgets/base",
            "_view_module_version": "1.2.0",
            "_view_name": "StyleView",
            "description_width": ""
          }
        },
        "c3e0454dfc2b49b3afa1a1034221adcb": {
          "model_module": "@jupyter-widgets/base",
          "model_name": "LayoutModel",
          "model_module_version": "1.2.0",
          "state": {
            "_model_module": "@jupyter-widgets/base",
            "_model_module_version": "1.2.0",
            "_model_name": "LayoutModel",
            "_view_count": null,
            "_view_module": "@jupyter-widgets/base",
            "_view_module_version": "1.2.0",
            "_view_name": "LayoutView",
            "align_content": null,
            "align_items": null,
            "align_self": null,
            "border": null,
            "bottom": null,
            "display": null,
            "flex": null,
            "flex_flow": null,
            "grid_area": null,
            "grid_auto_columns": null,
            "grid_auto_flow": null,
            "grid_auto_rows": null,
            "grid_column": null,
            "grid_gap": null,
            "grid_row": null,
            "grid_template_areas": null,
            "grid_template_columns": null,
            "grid_template_rows": null,
            "height": null,
            "justify_content": null,
            "justify_items": null,
            "left": null,
            "margin": null,
            "max_height": null,
            "max_width": null,
            "min_height": null,
            "min_width": null,
            "object_fit": null,
            "object_position": null,
            "order": null,
            "overflow": null,
            "overflow_x": null,
            "overflow_y": null,
            "padding": null,
            "right": null,
            "top": null,
            "visibility": null,
            "width": null
          }
        },
        "e4c5f0ae3a764be191355630aafcc667": {
          "model_module": "@jupyter-widgets/controls",
          "model_name": "ProgressStyleModel",
          "model_module_version": "1.5.0",
          "state": {
            "_model_module": "@jupyter-widgets/controls",
            "_model_module_version": "1.5.0",
            "_model_name": "ProgressStyleModel",
            "_view_count": null,
            "_view_module": "@jupyter-widgets/base",
            "_view_module_version": "1.2.0",
            "_view_name": "StyleView",
            "bar_color": null,
            "description_width": ""
          }
        },
        "fd4e77d66a1945d58b363546b448cd3d": {
          "model_module": "@jupyter-widgets/base",
          "model_name": "LayoutModel",
          "model_module_version": "1.2.0",
          "state": {
            "_model_module": "@jupyter-widgets/base",
            "_model_module_version": "1.2.0",
            "_model_name": "LayoutModel",
            "_view_count": null,
            "_view_module": "@jupyter-widgets/base",
            "_view_module_version": "1.2.0",
            "_view_name": "LayoutView",
            "align_content": null,
            "align_items": null,
            "align_self": null,
            "border": null,
            "bottom": null,
            "display": null,
            "flex": null,
            "flex_flow": null,
            "grid_area": null,
            "grid_auto_columns": null,
            "grid_auto_flow": null,
            "grid_auto_rows": null,
            "grid_column": null,
            "grid_gap": null,
            "grid_row": null,
            "grid_template_areas": null,
            "grid_template_columns": null,
            "grid_template_rows": null,
            "height": null,
            "justify_content": null,
            "justify_items": null,
            "left": null,
            "margin": null,
            "max_height": null,
            "max_width": null,
            "min_height": null,
            "min_width": null,
            "object_fit": null,
            "object_position": null,
            "order": null,
            "overflow": null,
            "overflow_x": null,
            "overflow_y": null,
            "padding": null,
            "right": null,
            "top": null,
            "visibility": null,
            "width": null
          }
        },
        "0bb98dab14264b42a56abb262c4a753f": {
          "model_module": "@jupyter-widgets/controls",
          "model_name": "DescriptionStyleModel",
          "model_module_version": "1.5.0",
          "state": {
            "_model_module": "@jupyter-widgets/controls",
            "_model_module_version": "1.5.0",
            "_model_name": "DescriptionStyleModel",
            "_view_count": null,
            "_view_module": "@jupyter-widgets/base",
            "_view_module_version": "1.2.0",
            "_view_name": "StyleView",
            "description_width": ""
          }
        }
      }
    }
  },
  "cells": [
    {
      "cell_type": "code",
      "execution_count": null,
      "metadata": {
        "colab": {
          "base_uri": "https://localhost:8080/"
        },
        "id": "NDt5y5N4JRts",
        "outputId": "4dec2b7b-884c-4919-95e2-e4fcac118e28"
      },
      "outputs": [
        {
          "output_type": "stream",
          "name": "stdout",
          "text": [
            "Requirement already satisfied: datasets in /usr/local/lib/python3.10/dist-packages (3.2.0)\n",
            "Requirement already satisfied: jiwer in /usr/local/lib/python3.10/dist-packages (3.0.5)\n",
            "Requirement already satisfied: filelock in /usr/local/lib/python3.10/dist-packages (from datasets) (3.16.1)\n",
            "Requirement already satisfied: numpy>=1.17 in /usr/local/lib/python3.10/dist-packages (from datasets) (1.26.4)\n",
            "Requirement already satisfied: pyarrow>=15.0.0 in /usr/local/lib/python3.10/dist-packages (from datasets) (17.0.0)\n",
            "Requirement already satisfied: dill<0.3.9,>=0.3.0 in /usr/local/lib/python3.10/dist-packages (from datasets) (0.3.8)\n",
            "Requirement already satisfied: pandas in /usr/local/lib/python3.10/dist-packages (from datasets) (2.2.2)\n",
            "Requirement already satisfied: requests>=2.32.2 in /usr/local/lib/python3.10/dist-packages (from datasets) (2.32.3)\n",
            "Requirement already satisfied: tqdm>=4.66.3 in /usr/local/lib/python3.10/dist-packages (from datasets) (4.67.1)\n",
            "Requirement already satisfied: xxhash in /usr/local/lib/python3.10/dist-packages (from datasets) (3.5.0)\n",
            "Requirement already satisfied: multiprocess<0.70.17 in /usr/local/lib/python3.10/dist-packages (from datasets) (0.70.16)\n",
            "Requirement already satisfied: fsspec<=2024.9.0,>=2023.1.0 in /usr/local/lib/python3.10/dist-packages (from fsspec[http]<=2024.9.0,>=2023.1.0->datasets) (2024.9.0)\n",
            "Requirement already satisfied: aiohttp in /usr/local/lib/python3.10/dist-packages (from datasets) (3.11.10)\n",
            "Requirement already satisfied: huggingface-hub>=0.23.0 in /usr/local/lib/python3.10/dist-packages (from datasets) (0.27.0)\n",
            "Requirement already satisfied: packaging in /usr/local/lib/python3.10/dist-packages (from datasets) (24.2)\n",
            "Requirement already satisfied: pyyaml>=5.1 in /usr/local/lib/python3.10/dist-packages (from datasets) (6.0.2)\n",
            "Requirement already satisfied: click<9.0.0,>=8.1.3 in /usr/local/lib/python3.10/dist-packages (from jiwer) (8.1.7)\n",
            "Requirement already satisfied: rapidfuzz<4,>=3 in /usr/local/lib/python3.10/dist-packages (from jiwer) (3.11.0)\n",
            "Requirement already satisfied: aiohappyeyeballs>=2.3.0 in /usr/local/lib/python3.10/dist-packages (from aiohttp->datasets) (2.4.4)\n",
            "Requirement already satisfied: aiosignal>=1.1.2 in /usr/local/lib/python3.10/dist-packages (from aiohttp->datasets) (1.3.2)\n",
            "Requirement already satisfied: async-timeout<6.0,>=4.0 in /usr/local/lib/python3.10/dist-packages (from aiohttp->datasets) (4.0.3)\n",
            "Requirement already satisfied: attrs>=17.3.0 in /usr/local/lib/python3.10/dist-packages (from aiohttp->datasets) (24.3.0)\n",
            "Requirement already satisfied: frozenlist>=1.1.1 in /usr/local/lib/python3.10/dist-packages (from aiohttp->datasets) (1.5.0)\n",
            "Requirement already satisfied: multidict<7.0,>=4.5 in /usr/local/lib/python3.10/dist-packages (from aiohttp->datasets) (6.1.0)\n",
            "Requirement already satisfied: propcache>=0.2.0 in /usr/local/lib/python3.10/dist-packages (from aiohttp->datasets) (0.2.1)\n",
            "Requirement already satisfied: yarl<2.0,>=1.17.0 in /usr/local/lib/python3.10/dist-packages (from aiohttp->datasets) (1.18.3)\n",
            "Requirement already satisfied: typing-extensions>=3.7.4.3 in /usr/local/lib/python3.10/dist-packages (from huggingface-hub>=0.23.0->datasets) (4.12.2)\n",
            "Requirement already satisfied: charset-normalizer<4,>=2 in /usr/local/lib/python3.10/dist-packages (from requests>=2.32.2->datasets) (3.4.0)\n",
            "Requirement already satisfied: idna<4,>=2.5 in /usr/local/lib/python3.10/dist-packages (from requests>=2.32.2->datasets) (3.10)\n",
            "Requirement already satisfied: urllib3<3,>=1.21.1 in /usr/local/lib/python3.10/dist-packages (from requests>=2.32.2->datasets) (2.2.3)\n",
            "Requirement already satisfied: certifi>=2017.4.17 in /usr/local/lib/python3.10/dist-packages (from requests>=2.32.2->datasets) (2024.12.14)\n",
            "Requirement already satisfied: python-dateutil>=2.8.2 in /usr/local/lib/python3.10/dist-packages (from pandas->datasets) (2.8.2)\n",
            "Requirement already satisfied: pytz>=2020.1 in /usr/local/lib/python3.10/dist-packages (from pandas->datasets) (2024.2)\n",
            "Requirement already satisfied: tzdata>=2022.7 in /usr/local/lib/python3.10/dist-packages (from pandas->datasets) (2024.2)\n",
            "Requirement already satisfied: six>=1.5 in /usr/local/lib/python3.10/dist-packages (from python-dateutil>=2.8.2->pandas->datasets) (1.17.0)\n"
          ]
        }
      ],
      "source": [
        "\n",
        "!pip install datasets jiwer"
      ]
    },
    {
      "cell_type": "code",
      "source": [
        "import torchaudio\n",
        "import os\n",
        "from transformers import WhisperProcessor\n",
        "import torch\n",
        "from sklearn.model_selection import train_test_split\n",
        "from transformers import WhisperProcessor, WhisperForConditionalGeneration\n",
        "from datasets import Dataset, DatasetDict\n",
        "from transformers import Seq2SeqTrainer, Seq2SeqTrainingArguments"
      ],
      "metadata": {
        "id": "xeBwSsqoLqK9"
      },
      "execution_count": null,
      "outputs": []
    },
    {
      "cell_type": "code",
      "source": [
        "def create_dataset(audio_path, transcript_path):\n",
        "    audio_files = sorted([os.path.join(audio_path, f) for f in os.listdir(audio_path) if f.endswith('.wav') or f.endswith('.mp3')])\n",
        "    with open(os.path.abspath(transcript_path), \"r\") as f:\n",
        "        transcriptions = [line.strip() for line in f.readlines()]\n",
        "    print(f\"Audio Files: {audio_files}\")\n",
        "\n",
        "    dataset = []\n",
        "    for audio_file, transcription in zip(audio_files, transcriptions):\n",
        "        waveform, sample_rate = torchaudio.load(audio_file)\n",
        "        dataset.append({\"audio\": {\"array\": waveform.squeeze(0).numpy(), \"sampling_rate\": sample_rate}, \"sentence\": transcription})\n",
        "\n",
        "    return dataset"
      ],
      "metadata": {
        "id": "wWz8V8LyKXbJ"
      },
      "execution_count": null,
      "outputs": []
    },
    {
      "cell_type": "code",
      "source": [
        "def preprocess_dataset(dataset, processor):\n",
        "    def preprocess(batch):\n",
        "        audio = batch[\"audio\"]\n",
        "        input_features = processor(audio[\"array\"], sampling_rate=16000, return_tensors=\"pt\").input_features[0]\n",
        "        input_ids = processor.tokenizer(batch[\"sentence\"]).input_ids\n",
        "\n",
        "        return {\n",
        "            \"input_features\": input_features,\n",
        "            \"labels\": torch.tensor(input_ids, dtype=torch.long),\n",
        "        }\n",
        "\n",
        "    return dataset.map(preprocess, remove_columns=[\"audio\", \"sentence\"])"
      ],
      "metadata": {
        "id": "WuWt-hgOKZz-"
      },
      "execution_count": null,
      "outputs": []
    },
    {
      "cell_type": "code",
      "source": [
        "class DataCollatorWhisper:\n",
        "    def __init__(self, processor):\n",
        "        self.processor = processor\n",
        "\n",
        "    def __call__(self, batch):\n",
        "        input_features = torch.stack(\n",
        "            [torch.tensor(example[\"input_features\"]) if not isinstance(example[\"input_features\"], torch.Tensor) else example[\"input_features\"] for example in batch]\n",
        "        )\n",
        "\n",
        "        labels = [\n",
        "            torch.tensor(example[\"labels\"], dtype=torch.long) if not isinstance(example[\"labels\"], torch.Tensor) else example[\"labels\"]\n",
        "            for example in batch\n",
        "        ]\n",
        "\n",
        "        labels = torch.nn.utils.rnn.pad_sequence(labels, batch_first=True, padding_value=self.processor.tokenizer.pad_token_id)\n",
        "\n",
        "        return {\n",
        "            \"input_features\": input_features,\n",
        "            \"labels\": labels,\n",
        "        }"
      ],
      "metadata": {
        "id": "djZ3KfQoKhvm"
      },
      "execution_count": null,
      "outputs": []
    },
    {
      "cell_type": "code",
      "source": [
        "!git clone https://github.com/Salomo309/Tugas-Besar-Automatic-Speech-Recognition.git\n",
        "\n",
        "%cd Tugas-Besar-Automatic-Speech-Recognition/data\n",
        "\n",
        "!ls -R"
      ],
      "metadata": {
        "id": "6yINOUOtwdKT",
        "colab": {
          "base_uri": "https://localhost:8080/"
        },
        "outputId": "d9591d0f-3c44-436c-9132-a9ecb6e70a19"
      },
      "execution_count": null,
      "outputs": [
        {
          "output_type": "stream",
          "name": "stdout",
          "text": [
            "Cloning into 'Tugas-Besar-Automatic-Speech-Recognition'...\n",
            "remote: Enumerating objects: 302, done.\u001b[K\n",
            "remote: Counting objects: 100% (302/302), done.\u001b[K\n",
            "remote: Compressing objects: 100% (292/292), done.\u001b[K\n",
            "remote: Total 302 (delta 13), reused 292 (delta 6), pack-reused 0 (from 0)\u001b[K\n",
            "Receiving objects: 100% (302/302), 6.64 MiB | 16.66 MiB/s, done.\n",
            "Resolving deltas: 100% (13/13), done.\n",
            "/content/Tugas-Besar-Automatic-Speech-Recognition/data/Tugas-Besar-Automatic-Speech-Recognition/data\n",
            ".:\n",
            "audio  audio_test  transcript_test.txt\ttranscript.txt\n",
            "\n",
            "./audio:\n",
            "common_voice_id_19059614.mp3  common_voice_id_20955243.mp3  common_voice_id_23827455.mp3\n",
            "common_voice_id_19061958.mp3  common_voice_id_20955251.mp3  common_voice_id_23827469.mp3\n",
            "common_voice_id_19062055.mp3  common_voice_id_20955254.mp3  common_voice_id_24016690.mp3\n",
            "common_voice_id_19078324.mp3  common_voice_id_20956528.mp3  common_voice_id_24976980.mp3\n",
            "common_voice_id_19080263.mp3  common_voice_id_20961261.mp3  common_voice_id_24981957.mp3\n",
            "common_voice_id_19083105.mp3  common_voice_id_20962085.mp3  common_voice_id_24982945.mp3\n",
            "common_voice_id_19115434.mp3  common_voice_id_20962089.mp3  common_voice_id_25025598.mp3\n",
            "common_voice_id_19192638.mp3  common_voice_id_20962163.mp3  common_voice_id_25025650.mp3\n",
            "common_voice_id_19192707.mp3  common_voice_id_20962390.mp3  common_voice_id_25031183.mp3\n",
            "common_voice_id_19258438.mp3  common_voice_id_20962971.mp3  common_voice_id_25039338.mp3\n",
            "common_voice_id_19331658.mp3  common_voice_id_20966714.mp3  common_voice_id_25045771.mp3\n",
            "common_voice_id_19338258.mp3  common_voice_id_20967323.mp3  common_voice_id_25080902.mp3\n",
            "common_voice_id_19338281.mp3  common_voice_id_20967382.mp3  common_voice_id_25128793.mp3\n",
            "common_voice_id_19338296.mp3  common_voice_id_20967388.mp3  common_voice_id_25165586.mp3\n",
            "common_voice_id_19338337.mp3  common_voice_id_20967947.mp3  common_voice_id_25165596.mp3\n",
            "common_voice_id_19338341.mp3  common_voice_id_20970749.mp3  common_voice_id_25165620.mp3\n",
            "common_voice_id_19338377.mp3  common_voice_id_20970782.mp3  common_voice_id_25248838.mp3\n",
            "common_voice_id_19338454.mp3  common_voice_id_20971275.mp3  common_voice_id_25294847.mp3\n",
            "common_voice_id_19338543.mp3  common_voice_id_20971816.mp3  common_voice_id_25295022.mp3\n",
            "common_voice_id_19338572.mp3  common_voice_id_20971941.mp3  common_voice_id_25296924.mp3\n",
            "common_voice_id_19376371.mp3  common_voice_id_20971947.mp3  common_voice_id_25297655.mp3\n",
            "common_voice_id_19392744.mp3  common_voice_id_20976816.mp3  common_voice_id_25298800.mp3\n",
            "common_voice_id_19404365.mp3  common_voice_id_20977188.mp3  common_voice_id_25299040.mp3\n",
            "common_voice_id_19487334.mp3  common_voice_id_20977332.mp3  common_voice_id_25301302.mp3\n",
            "common_voice_id_19487438.mp3  common_voice_id_20977424.mp3  common_voice_id_25301386.mp3\n",
            "common_voice_id_19495366.mp3  common_voice_id_20977440.mp3  common_voice_id_25301562.mp3\n",
            "common_voice_id_19699854.mp3  common_voice_id_20986104.mp3  common_voice_id_25301649.mp3\n",
            "common_voice_id_19699857.mp3  common_voice_id_20986113.mp3  common_voice_id_25337452.mp3\n",
            "common_voice_id_19704959.mp3  common_voice_id_20996353.mp3  common_voice_id_25345564.mp3\n",
            "common_voice_id_19748946.mp3  common_voice_id_20996425.mp3  common_voice_id_25345572.mp3\n",
            "common_voice_id_19761417.mp3  common_voice_id_20996465.mp3  common_voice_id_25349021.mp3\n",
            "common_voice_id_19783754.mp3  common_voice_id_21023605.mp3  common_voice_id_25397503.mp3\n",
            "common_voice_id_19785558.mp3  common_voice_id_21023723.mp3  common_voice_id_25400124.mp3\n",
            "common_voice_id_19800504.mp3  common_voice_id_21023754.mp3  common_voice_id_25412518.mp3\n",
            "common_voice_id_19800588.mp3  common_voice_id_21023795.mp3  common_voice_id_25412763.mp3\n",
            "common_voice_id_19802418.mp3  common_voice_id_21446297.mp3  common_voice_id_25413045.mp3\n",
            "common_voice_id_19809470.mp3  common_voice_id_21448209.mp3  common_voice_id_25414301.mp3\n",
            "common_voice_id_19809472.mp3  common_voice_id_21448684.mp3  common_voice_id_25414304.mp3\n",
            "common_voice_id_19809478.mp3  common_voice_id_21583906.mp3  common_voice_id_25414516.mp3\n",
            "common_voice_id_19816995.mp3  common_voice_id_21584112.mp3  common_voice_id_25434486.mp3\n",
            "common_voice_id_19817055.mp3  common_voice_id_21584197.mp3  common_voice_id_25444425.mp3\n",
            "common_voice_id_19820864.mp3  common_voice_id_21918190.mp3  common_voice_id_25444484.mp3\n",
            "common_voice_id_19821412.mp3  common_voice_id_21919842.mp3  common_voice_id_25452159.mp3\n",
            "common_voice_id_19878658.mp3  common_voice_id_21936380.mp3  common_voice_id_25464727.mp3\n",
            "common_voice_id_20120766.mp3  common_voice_id_21936405.mp3  common_voice_id_25464796.mp3\n",
            "common_voice_id_20362540.mp3  common_voice_id_21937183.mp3  common_voice_id_25464798.mp3\n",
            "common_voice_id_20761958.mp3  common_voice_id_22003856.mp3  common_voice_id_25468961.mp3\n",
            "common_voice_id_20762087.mp3  common_voice_id_22007973.mp3  common_voice_id_25469554.mp3\n",
            "common_voice_id_20785378.mp3  common_voice_id_22060417.mp3  common_voice_id_25469711.mp3\n",
            "common_voice_id_20952953.mp3  common_voice_id_22108154.mp3  common_voice_id_25527203.mp3\n",
            "common_voice_id_20953140.mp3  common_voice_id_22377677.mp3  common_voice_id_25555744.mp3\n",
            "common_voice_id_20953391.mp3  common_voice_id_22412637.mp3  common_voice_id_25588212.mp3\n",
            "common_voice_id_20953413.mp3  common_voice_id_22485701.mp3  common_voice_id_25627853.mp3\n",
            "common_voice_id_20953423.mp3  common_voice_id_22485735.mp3  common_voice_id_25627898.mp3\n",
            "common_voice_id_20953476.mp3  common_voice_id_22648002.mp3  common_voice_id_25649956.mp3\n",
            "common_voice_id_20953502.mp3  common_voice_id_22901093.mp3  common_voice_id_25718897.mp3\n",
            "common_voice_id_20953636.mp3  common_voice_id_22918072.mp3  common_voice_id_25832252.mp3\n",
            "common_voice_id_20953780.mp3  common_voice_id_22918149.mp3  common_voice_id_25956827.mp3\n",
            "common_voice_id_20953943.mp3  common_voice_id_22918199.mp3  common_voice_id_26021438.mp3\n",
            "common_voice_id_20953957.mp3  common_voice_id_22918256.mp3  common_voice_id_26152304.mp3\n",
            "common_voice_id_20954051.mp3  common_voice_id_22951185.mp3  common_voice_id_26228768.mp3\n",
            "common_voice_id_20954073.mp3  common_voice_id_22967236.mp3  common_voice_id_26244157.mp3\n",
            "common_voice_id_20954291.mp3  common_voice_id_23656663.mp3  common_voice_id_26251135.mp3\n",
            "common_voice_id_20954489.mp3  common_voice_id_23656671.mp3  common_voice_id_26254924.mp3\n",
            "common_voice_id_20954531.mp3  common_voice_id_23656743.mp3  common_voice_id_26591822.mp3\n",
            "common_voice_id_20954577.mp3  common_voice_id_23745476.mp3  common_voice_id_26664950.mp3\n",
            "common_voice_id_20954580.mp3  common_voice_id_23748180.mp3  common_voice_id_26664972.mp3\n",
            "common_voice_id_20954854.mp3  common_voice_id_23760296.mp3  common_voice_id_26665032.mp3\n",
            "common_voice_id_20955040.mp3  common_voice_id_23804754.mp3  common_voice_id_26674400.mp3\n",
            "\n",
            "./audio_test:\n",
            "common_voice_id_26831395.mp3  common_voice_id_27854122.mp3  common_voice_id_35285101.mp3\n",
            "common_voice_id_26831401.mp3  common_voice_id_27857987.mp3  common_voice_id_35323555.mp3\n",
            "common_voice_id_27160502.mp3  common_voice_id_27858097.mp3  common_voice_id_35373025.mp3\n",
            "common_voice_id_27180100.mp3  common_voice_id_27865663.mp3  common_voice_id_35373094.mp3\n",
            "common_voice_id_27204052.mp3  common_voice_id_28049405.mp3  common_voice_id_35377936.mp3\n",
            "common_voice_id_27341350.mp3  common_voice_id_28497151.mp3  common_voice_id_35404011.mp3\n",
            "common_voice_id_27370297.mp3  common_voice_id_28808127.mp3  common_voice_id_35508056.mp3\n",
            "common_voice_id_27374100.mp3  common_voice_id_29614161.mp3  common_voice_id_35508191.mp3\n",
            "common_voice_id_27451104.mp3  common_voice_id_30471970.mp3  common_voice_id_35627193.mp3\n",
            "common_voice_id_27457826.mp3  common_voice_id_30534744.mp3  common_voice_id_35628287.mp3\n",
            "common_voice_id_27457962.mp3  common_voice_id_31097534.mp3  common_voice_id_35864117.mp3\n",
            "common_voice_id_27599718.mp3  common_voice_id_32512850.mp3  common_voice_id_35950531.mp3\n",
            "common_voice_id_27600453.mp3  common_voice_id_32866658.mp3  common_voice_id_36986584.mp3\n",
            "common_voice_id_27628500.mp3  common_voice_id_33073238.mp3  common_voice_id_37072058.mp3\n",
            "common_voice_id_27795428.mp3  common_voice_id_33334017.mp3  common_voice_id_37072193.mp3\n",
            "common_voice_id_27806027.mp3  common_voice_id_34426369.mp3  common_voice_id_40620690.mp3\n",
            "common_voice_id_27830024.mp3  common_voice_id_35282244.mp3  common_voice_id_40699728.mp3\n"
          ]
        }
      ]
    },
    {
      "cell_type": "code",
      "source": [
        "model_name = \"cahya/whisper-small-id\"\n",
        "model = WhisperForConditionalGeneration.from_pretrained(model_name)\n",
        "processor = WhisperProcessor.from_pretrained(model_name)\n",
        "\n",
        "dataset1 = create_dataset(\"/content/Tugas-Besar-Automatic-Speech-Recognition/data/audio\", \"/content/Tugas-Besar-Automatic-Speech-Recognition/data/transcript.txt\")\n",
        "dataset1 = Dataset.from_list(dataset1)\n",
        "dataset1 = preprocess_dataset(dataset1, processor)\n",
        "\n",
        "dataset2 = create_dataset(\"/content/Tugas-Besar-Automatic-Speech-Recognition/data/audio_test\", \"/content/Tugas-Besar-Automatic-Speech-Recognition/data/transcript_test.txt\")\n",
        "dataset2 = Dataset.from_list(dataset2)\n",
        "dataset2 = preprocess_dataset(dataset2, processor)\n",
        "\n",
        "data_collator = DataCollatorWhisper(processor)\n",
        "\n",
        "train_dataset = dataset1\n",
        "eval_dataset = dataset2"
      ],
      "metadata": {
        "colab": {
          "base_uri": "https://localhost:8080/",
          "height": 137,
          "referenced_widgets": [
            "66be6e68517e439eadd465982684e976",
            "385ec3e25f4c4d289c7cd4222945208d",
            "57f3ab8739594181838273e029d53183",
            "51c099560d624e99b9da1a6e06a27093",
            "ad38617feed541a0b6d63c47111cb670",
            "962ff97f17044b628a7fdae6a2740dc6",
            "85bfdc3f45a54d4cb937a311dbded20f",
            "e38c25d8abf2455cbb2f4c8877be9eb3",
            "5d4b9fe91bc041d5b6c10f46bf20f3ad",
            "b23a3c2aa2b24244b0ae9d88a9c1614b",
            "64dd4abe0d7e461c807dde0b0acbcd87",
            "c8b4f1d9a1df45169590e18b4e0b6f02",
            "8c87f54c0afd49e0ba8e7087b46b9b2e",
            "bbca26113fb54e0285da53fb964dd459",
            "73a7a0edbe964a84b3f4ad7a9e52824b",
            "c6d8df31d8374d1d969dd951d37fc68d",
            "2019e8772f9a4489a5335b5c9b5b1279",
            "11706b041a5740f2b53495ae1fbf5402",
            "c3e0454dfc2b49b3afa1a1034221adcb",
            "e4c5f0ae3a764be191355630aafcc667",
            "fd4e77d66a1945d58b363546b448cd3d",
            "0bb98dab14264b42a56abb262c4a753f"
          ]
        },
        "id": "7ScV6nFiKlUc",
        "outputId": "18884067-7dd9-41ae-9e07-9a3066e2416a"
      },
      "execution_count": null,
      "outputs": [
        {
          "output_type": "stream",
          "name": "stdout",
          "text": [
            "Audio Files: ['/content/Tugas-Besar-Automatic-Speech-Recognition/data/audio/common_voice_id_19059614.mp3', '/content/Tugas-Besar-Automatic-Speech-Recognition/data/audio/common_voice_id_19061958.mp3', '/content/Tugas-Besar-Automatic-Speech-Recognition/data/audio/common_voice_id_19062055.mp3', '/content/Tugas-Besar-Automatic-Speech-Recognition/data/audio/common_voice_id_19078324.mp3', '/content/Tugas-Besar-Automatic-Speech-Recognition/data/audio/common_voice_id_19080263.mp3', '/content/Tugas-Besar-Automatic-Speech-Recognition/data/audio/common_voice_id_19083105.mp3', '/content/Tugas-Besar-Automatic-Speech-Recognition/data/audio/common_voice_id_19115434.mp3', '/content/Tugas-Besar-Automatic-Speech-Recognition/data/audio/common_voice_id_19192638.mp3', '/content/Tugas-Besar-Automatic-Speech-Recognition/data/audio/common_voice_id_19192707.mp3', '/content/Tugas-Besar-Automatic-Speech-Recognition/data/audio/common_voice_id_19258438.mp3', '/content/Tugas-Besar-Automatic-Speech-Recognition/data/audio/common_voice_id_19331658.mp3', '/content/Tugas-Besar-Automatic-Speech-Recognition/data/audio/common_voice_id_19338258.mp3', '/content/Tugas-Besar-Automatic-Speech-Recognition/data/audio/common_voice_id_19338281.mp3', '/content/Tugas-Besar-Automatic-Speech-Recognition/data/audio/common_voice_id_19338296.mp3', '/content/Tugas-Besar-Automatic-Speech-Recognition/data/audio/common_voice_id_19338337.mp3', '/content/Tugas-Besar-Automatic-Speech-Recognition/data/audio/common_voice_id_19338341.mp3', '/content/Tugas-Besar-Automatic-Speech-Recognition/data/audio/common_voice_id_19338377.mp3', '/content/Tugas-Besar-Automatic-Speech-Recognition/data/audio/common_voice_id_19338454.mp3', '/content/Tugas-Besar-Automatic-Speech-Recognition/data/audio/common_voice_id_19338543.mp3', '/content/Tugas-Besar-Automatic-Speech-Recognition/data/audio/common_voice_id_19338572.mp3', '/content/Tugas-Besar-Automatic-Speech-Recognition/data/audio/common_voice_id_19376371.mp3', '/content/Tugas-Besar-Automatic-Speech-Recognition/data/audio/common_voice_id_19392744.mp3', '/content/Tugas-Besar-Automatic-Speech-Recognition/data/audio/common_voice_id_19404365.mp3', '/content/Tugas-Besar-Automatic-Speech-Recognition/data/audio/common_voice_id_19487334.mp3', '/content/Tugas-Besar-Automatic-Speech-Recognition/data/audio/common_voice_id_19487438.mp3', '/content/Tugas-Besar-Automatic-Speech-Recognition/data/audio/common_voice_id_19495366.mp3', '/content/Tugas-Besar-Automatic-Speech-Recognition/data/audio/common_voice_id_19699854.mp3', '/content/Tugas-Besar-Automatic-Speech-Recognition/data/audio/common_voice_id_19699857.mp3', '/content/Tugas-Besar-Automatic-Speech-Recognition/data/audio/common_voice_id_19704959.mp3', '/content/Tugas-Besar-Automatic-Speech-Recognition/data/audio/common_voice_id_19748946.mp3', '/content/Tugas-Besar-Automatic-Speech-Recognition/data/audio/common_voice_id_19761417.mp3', '/content/Tugas-Besar-Automatic-Speech-Recognition/data/audio/common_voice_id_19783754.mp3', '/content/Tugas-Besar-Automatic-Speech-Recognition/data/audio/common_voice_id_19785558.mp3', '/content/Tugas-Besar-Automatic-Speech-Recognition/data/audio/common_voice_id_19800504.mp3', '/content/Tugas-Besar-Automatic-Speech-Recognition/data/audio/common_voice_id_19800588.mp3', '/content/Tugas-Besar-Automatic-Speech-Recognition/data/audio/common_voice_id_19802418.mp3', '/content/Tugas-Besar-Automatic-Speech-Recognition/data/audio/common_voice_id_19809470.mp3', '/content/Tugas-Besar-Automatic-Speech-Recognition/data/audio/common_voice_id_19809472.mp3', '/content/Tugas-Besar-Automatic-Speech-Recognition/data/audio/common_voice_id_19809478.mp3', '/content/Tugas-Besar-Automatic-Speech-Recognition/data/audio/common_voice_id_19816995.mp3', '/content/Tugas-Besar-Automatic-Speech-Recognition/data/audio/common_voice_id_19817055.mp3', '/content/Tugas-Besar-Automatic-Speech-Recognition/data/audio/common_voice_id_19820864.mp3', '/content/Tugas-Besar-Automatic-Speech-Recognition/data/audio/common_voice_id_19821412.mp3', '/content/Tugas-Besar-Automatic-Speech-Recognition/data/audio/common_voice_id_19878658.mp3', '/content/Tugas-Besar-Automatic-Speech-Recognition/data/audio/common_voice_id_20120766.mp3', '/content/Tugas-Besar-Automatic-Speech-Recognition/data/audio/common_voice_id_20362540.mp3', '/content/Tugas-Besar-Automatic-Speech-Recognition/data/audio/common_voice_id_20761958.mp3', '/content/Tugas-Besar-Automatic-Speech-Recognition/data/audio/common_voice_id_20762087.mp3', '/content/Tugas-Besar-Automatic-Speech-Recognition/data/audio/common_voice_id_20785378.mp3', '/content/Tugas-Besar-Automatic-Speech-Recognition/data/audio/common_voice_id_20952953.mp3', '/content/Tugas-Besar-Automatic-Speech-Recognition/data/audio/common_voice_id_20953140.mp3', '/content/Tugas-Besar-Automatic-Speech-Recognition/data/audio/common_voice_id_20953391.mp3', '/content/Tugas-Besar-Automatic-Speech-Recognition/data/audio/common_voice_id_20953413.mp3', '/content/Tugas-Besar-Automatic-Speech-Recognition/data/audio/common_voice_id_20953423.mp3', '/content/Tugas-Besar-Automatic-Speech-Recognition/data/audio/common_voice_id_20953476.mp3', '/content/Tugas-Besar-Automatic-Speech-Recognition/data/audio/common_voice_id_20953502.mp3', '/content/Tugas-Besar-Automatic-Speech-Recognition/data/audio/common_voice_id_20953636.mp3', '/content/Tugas-Besar-Automatic-Speech-Recognition/data/audio/common_voice_id_20953780.mp3', '/content/Tugas-Besar-Automatic-Speech-Recognition/data/audio/common_voice_id_20953943.mp3', '/content/Tugas-Besar-Automatic-Speech-Recognition/data/audio/common_voice_id_20953957.mp3', '/content/Tugas-Besar-Automatic-Speech-Recognition/data/audio/common_voice_id_20954051.mp3', '/content/Tugas-Besar-Automatic-Speech-Recognition/data/audio/common_voice_id_20954073.mp3', '/content/Tugas-Besar-Automatic-Speech-Recognition/data/audio/common_voice_id_20954291.mp3', '/content/Tugas-Besar-Automatic-Speech-Recognition/data/audio/common_voice_id_20954489.mp3', '/content/Tugas-Besar-Automatic-Speech-Recognition/data/audio/common_voice_id_20954531.mp3', '/content/Tugas-Besar-Automatic-Speech-Recognition/data/audio/common_voice_id_20954577.mp3', '/content/Tugas-Besar-Automatic-Speech-Recognition/data/audio/common_voice_id_20954580.mp3', '/content/Tugas-Besar-Automatic-Speech-Recognition/data/audio/common_voice_id_20954854.mp3', '/content/Tugas-Besar-Automatic-Speech-Recognition/data/audio/common_voice_id_20955040.mp3', '/content/Tugas-Besar-Automatic-Speech-Recognition/data/audio/common_voice_id_20955243.mp3', '/content/Tugas-Besar-Automatic-Speech-Recognition/data/audio/common_voice_id_20955251.mp3', '/content/Tugas-Besar-Automatic-Speech-Recognition/data/audio/common_voice_id_20955254.mp3', '/content/Tugas-Besar-Automatic-Speech-Recognition/data/audio/common_voice_id_20956528.mp3', '/content/Tugas-Besar-Automatic-Speech-Recognition/data/audio/common_voice_id_20961261.mp3', '/content/Tugas-Besar-Automatic-Speech-Recognition/data/audio/common_voice_id_20962085.mp3', '/content/Tugas-Besar-Automatic-Speech-Recognition/data/audio/common_voice_id_20962089.mp3', '/content/Tugas-Besar-Automatic-Speech-Recognition/data/audio/common_voice_id_20962163.mp3', '/content/Tugas-Besar-Automatic-Speech-Recognition/data/audio/common_voice_id_20962390.mp3', '/content/Tugas-Besar-Automatic-Speech-Recognition/data/audio/common_voice_id_20962971.mp3', '/content/Tugas-Besar-Automatic-Speech-Recognition/data/audio/common_voice_id_20966714.mp3', '/content/Tugas-Besar-Automatic-Speech-Recognition/data/audio/common_voice_id_20967323.mp3', '/content/Tugas-Besar-Automatic-Speech-Recognition/data/audio/common_voice_id_20967382.mp3', '/content/Tugas-Besar-Automatic-Speech-Recognition/data/audio/common_voice_id_20967388.mp3', '/content/Tugas-Besar-Automatic-Speech-Recognition/data/audio/common_voice_id_20967947.mp3', '/content/Tugas-Besar-Automatic-Speech-Recognition/data/audio/common_voice_id_20970749.mp3', '/content/Tugas-Besar-Automatic-Speech-Recognition/data/audio/common_voice_id_20970782.mp3', '/content/Tugas-Besar-Automatic-Speech-Recognition/data/audio/common_voice_id_20971275.mp3', '/content/Tugas-Besar-Automatic-Speech-Recognition/data/audio/common_voice_id_20971816.mp3', '/content/Tugas-Besar-Automatic-Speech-Recognition/data/audio/common_voice_id_20971941.mp3', '/content/Tugas-Besar-Automatic-Speech-Recognition/data/audio/common_voice_id_20971947.mp3', '/content/Tugas-Besar-Automatic-Speech-Recognition/data/audio/common_voice_id_20976816.mp3', '/content/Tugas-Besar-Automatic-Speech-Recognition/data/audio/common_voice_id_20977188.mp3', '/content/Tugas-Besar-Automatic-Speech-Recognition/data/audio/common_voice_id_20977332.mp3', '/content/Tugas-Besar-Automatic-Speech-Recognition/data/audio/common_voice_id_20977424.mp3', '/content/Tugas-Besar-Automatic-Speech-Recognition/data/audio/common_voice_id_20977440.mp3', '/content/Tugas-Besar-Automatic-Speech-Recognition/data/audio/common_voice_id_20986104.mp3', '/content/Tugas-Besar-Automatic-Speech-Recognition/data/audio/common_voice_id_20986113.mp3', '/content/Tugas-Besar-Automatic-Speech-Recognition/data/audio/common_voice_id_20996353.mp3', '/content/Tugas-Besar-Automatic-Speech-Recognition/data/audio/common_voice_id_20996425.mp3', '/content/Tugas-Besar-Automatic-Speech-Recognition/data/audio/common_voice_id_20996465.mp3', '/content/Tugas-Besar-Automatic-Speech-Recognition/data/audio/common_voice_id_21023605.mp3', '/content/Tugas-Besar-Automatic-Speech-Recognition/data/audio/common_voice_id_21023723.mp3', '/content/Tugas-Besar-Automatic-Speech-Recognition/data/audio/common_voice_id_21023754.mp3', '/content/Tugas-Besar-Automatic-Speech-Recognition/data/audio/common_voice_id_21023795.mp3', '/content/Tugas-Besar-Automatic-Speech-Recognition/data/audio/common_voice_id_21446297.mp3', '/content/Tugas-Besar-Automatic-Speech-Recognition/data/audio/common_voice_id_21448209.mp3', '/content/Tugas-Besar-Automatic-Speech-Recognition/data/audio/common_voice_id_21448684.mp3', '/content/Tugas-Besar-Automatic-Speech-Recognition/data/audio/common_voice_id_21583906.mp3', '/content/Tugas-Besar-Automatic-Speech-Recognition/data/audio/common_voice_id_21584112.mp3', '/content/Tugas-Besar-Automatic-Speech-Recognition/data/audio/common_voice_id_21584197.mp3', '/content/Tugas-Besar-Automatic-Speech-Recognition/data/audio/common_voice_id_21918190.mp3', '/content/Tugas-Besar-Automatic-Speech-Recognition/data/audio/common_voice_id_21919842.mp3', '/content/Tugas-Besar-Automatic-Speech-Recognition/data/audio/common_voice_id_21936380.mp3', '/content/Tugas-Besar-Automatic-Speech-Recognition/data/audio/common_voice_id_21936405.mp3', '/content/Tugas-Besar-Automatic-Speech-Recognition/data/audio/common_voice_id_21937183.mp3', '/content/Tugas-Besar-Automatic-Speech-Recognition/data/audio/common_voice_id_22003856.mp3', '/content/Tugas-Besar-Automatic-Speech-Recognition/data/audio/common_voice_id_22007973.mp3', '/content/Tugas-Besar-Automatic-Speech-Recognition/data/audio/common_voice_id_22060417.mp3', '/content/Tugas-Besar-Automatic-Speech-Recognition/data/audio/common_voice_id_22108154.mp3', '/content/Tugas-Besar-Automatic-Speech-Recognition/data/audio/common_voice_id_22377677.mp3', '/content/Tugas-Besar-Automatic-Speech-Recognition/data/audio/common_voice_id_22412637.mp3', '/content/Tugas-Besar-Automatic-Speech-Recognition/data/audio/common_voice_id_22485701.mp3', '/content/Tugas-Besar-Automatic-Speech-Recognition/data/audio/common_voice_id_22485735.mp3', '/content/Tugas-Besar-Automatic-Speech-Recognition/data/audio/common_voice_id_22648002.mp3', '/content/Tugas-Besar-Automatic-Speech-Recognition/data/audio/common_voice_id_22901093.mp3', '/content/Tugas-Besar-Automatic-Speech-Recognition/data/audio/common_voice_id_22918072.mp3', '/content/Tugas-Besar-Automatic-Speech-Recognition/data/audio/common_voice_id_22918149.mp3', '/content/Tugas-Besar-Automatic-Speech-Recognition/data/audio/common_voice_id_22918199.mp3', '/content/Tugas-Besar-Automatic-Speech-Recognition/data/audio/common_voice_id_22918256.mp3', '/content/Tugas-Besar-Automatic-Speech-Recognition/data/audio/common_voice_id_22951185.mp3', '/content/Tugas-Besar-Automatic-Speech-Recognition/data/audio/common_voice_id_22967236.mp3', '/content/Tugas-Besar-Automatic-Speech-Recognition/data/audio/common_voice_id_23656663.mp3', '/content/Tugas-Besar-Automatic-Speech-Recognition/data/audio/common_voice_id_23656671.mp3', '/content/Tugas-Besar-Automatic-Speech-Recognition/data/audio/common_voice_id_23656743.mp3', '/content/Tugas-Besar-Automatic-Speech-Recognition/data/audio/common_voice_id_23745476.mp3', '/content/Tugas-Besar-Automatic-Speech-Recognition/data/audio/common_voice_id_23748180.mp3', '/content/Tugas-Besar-Automatic-Speech-Recognition/data/audio/common_voice_id_23760296.mp3', '/content/Tugas-Besar-Automatic-Speech-Recognition/data/audio/common_voice_id_23804754.mp3', '/content/Tugas-Besar-Automatic-Speech-Recognition/data/audio/common_voice_id_23827455.mp3', '/content/Tugas-Besar-Automatic-Speech-Recognition/data/audio/common_voice_id_23827469.mp3', '/content/Tugas-Besar-Automatic-Speech-Recognition/data/audio/common_voice_id_24016690.mp3', '/content/Tugas-Besar-Automatic-Speech-Recognition/data/audio/common_voice_id_24976980.mp3', '/content/Tugas-Besar-Automatic-Speech-Recognition/data/audio/common_voice_id_24981957.mp3', '/content/Tugas-Besar-Automatic-Speech-Recognition/data/audio/common_voice_id_24982945.mp3', '/content/Tugas-Besar-Automatic-Speech-Recognition/data/audio/common_voice_id_25025598.mp3', '/content/Tugas-Besar-Automatic-Speech-Recognition/data/audio/common_voice_id_25025650.mp3', '/content/Tugas-Besar-Automatic-Speech-Recognition/data/audio/common_voice_id_25031183.mp3', '/content/Tugas-Besar-Automatic-Speech-Recognition/data/audio/common_voice_id_25039338.mp3', '/content/Tugas-Besar-Automatic-Speech-Recognition/data/audio/common_voice_id_25045771.mp3', '/content/Tugas-Besar-Automatic-Speech-Recognition/data/audio/common_voice_id_25080902.mp3', '/content/Tugas-Besar-Automatic-Speech-Recognition/data/audio/common_voice_id_25128793.mp3', '/content/Tugas-Besar-Automatic-Speech-Recognition/data/audio/common_voice_id_25165586.mp3', '/content/Tugas-Besar-Automatic-Speech-Recognition/data/audio/common_voice_id_25165596.mp3', '/content/Tugas-Besar-Automatic-Speech-Recognition/data/audio/common_voice_id_25165620.mp3', '/content/Tugas-Besar-Automatic-Speech-Recognition/data/audio/common_voice_id_25248838.mp3', '/content/Tugas-Besar-Automatic-Speech-Recognition/data/audio/common_voice_id_25294847.mp3', '/content/Tugas-Besar-Automatic-Speech-Recognition/data/audio/common_voice_id_25295022.mp3', '/content/Tugas-Besar-Automatic-Speech-Recognition/data/audio/common_voice_id_25296924.mp3', '/content/Tugas-Besar-Automatic-Speech-Recognition/data/audio/common_voice_id_25297655.mp3', '/content/Tugas-Besar-Automatic-Speech-Recognition/data/audio/common_voice_id_25298800.mp3', '/content/Tugas-Besar-Automatic-Speech-Recognition/data/audio/common_voice_id_25299040.mp3', '/content/Tugas-Besar-Automatic-Speech-Recognition/data/audio/common_voice_id_25301302.mp3', '/content/Tugas-Besar-Automatic-Speech-Recognition/data/audio/common_voice_id_25301386.mp3', '/content/Tugas-Besar-Automatic-Speech-Recognition/data/audio/common_voice_id_25301562.mp3', '/content/Tugas-Besar-Automatic-Speech-Recognition/data/audio/common_voice_id_25301649.mp3', '/content/Tugas-Besar-Automatic-Speech-Recognition/data/audio/common_voice_id_25337452.mp3', '/content/Tugas-Besar-Automatic-Speech-Recognition/data/audio/common_voice_id_25345564.mp3', '/content/Tugas-Besar-Automatic-Speech-Recognition/data/audio/common_voice_id_25345572.mp3', '/content/Tugas-Besar-Automatic-Speech-Recognition/data/audio/common_voice_id_25349021.mp3', '/content/Tugas-Besar-Automatic-Speech-Recognition/data/audio/common_voice_id_25397503.mp3', '/content/Tugas-Besar-Automatic-Speech-Recognition/data/audio/common_voice_id_25400124.mp3', '/content/Tugas-Besar-Automatic-Speech-Recognition/data/audio/common_voice_id_25412518.mp3', '/content/Tugas-Besar-Automatic-Speech-Recognition/data/audio/common_voice_id_25412763.mp3', '/content/Tugas-Besar-Automatic-Speech-Recognition/data/audio/common_voice_id_25413045.mp3', '/content/Tugas-Besar-Automatic-Speech-Recognition/data/audio/common_voice_id_25414301.mp3', '/content/Tugas-Besar-Automatic-Speech-Recognition/data/audio/common_voice_id_25414304.mp3', '/content/Tugas-Besar-Automatic-Speech-Recognition/data/audio/common_voice_id_25414516.mp3', '/content/Tugas-Besar-Automatic-Speech-Recognition/data/audio/common_voice_id_25434486.mp3', '/content/Tugas-Besar-Automatic-Speech-Recognition/data/audio/common_voice_id_25444425.mp3', '/content/Tugas-Besar-Automatic-Speech-Recognition/data/audio/common_voice_id_25444484.mp3', '/content/Tugas-Besar-Automatic-Speech-Recognition/data/audio/common_voice_id_25452159.mp3', '/content/Tugas-Besar-Automatic-Speech-Recognition/data/audio/common_voice_id_25464727.mp3', '/content/Tugas-Besar-Automatic-Speech-Recognition/data/audio/common_voice_id_25464796.mp3', '/content/Tugas-Besar-Automatic-Speech-Recognition/data/audio/common_voice_id_25464798.mp3', '/content/Tugas-Besar-Automatic-Speech-Recognition/data/audio/common_voice_id_25468961.mp3', '/content/Tugas-Besar-Automatic-Speech-Recognition/data/audio/common_voice_id_25469554.mp3', '/content/Tugas-Besar-Automatic-Speech-Recognition/data/audio/common_voice_id_25469711.mp3', '/content/Tugas-Besar-Automatic-Speech-Recognition/data/audio/common_voice_id_25527203.mp3', '/content/Tugas-Besar-Automatic-Speech-Recognition/data/audio/common_voice_id_25555744.mp3', '/content/Tugas-Besar-Automatic-Speech-Recognition/data/audio/common_voice_id_25588212.mp3', '/content/Tugas-Besar-Automatic-Speech-Recognition/data/audio/common_voice_id_25627853.mp3', '/content/Tugas-Besar-Automatic-Speech-Recognition/data/audio/common_voice_id_25627898.mp3', '/content/Tugas-Besar-Automatic-Speech-Recognition/data/audio/common_voice_id_25649956.mp3', '/content/Tugas-Besar-Automatic-Speech-Recognition/data/audio/common_voice_id_25718897.mp3', '/content/Tugas-Besar-Automatic-Speech-Recognition/data/audio/common_voice_id_25832252.mp3', '/content/Tugas-Besar-Automatic-Speech-Recognition/data/audio/common_voice_id_25956827.mp3', '/content/Tugas-Besar-Automatic-Speech-Recognition/data/audio/common_voice_id_26021438.mp3', '/content/Tugas-Besar-Automatic-Speech-Recognition/data/audio/common_voice_id_26152304.mp3', '/content/Tugas-Besar-Automatic-Speech-Recognition/data/audio/common_voice_id_26228768.mp3', '/content/Tugas-Besar-Automatic-Speech-Recognition/data/audio/common_voice_id_26244157.mp3', '/content/Tugas-Besar-Automatic-Speech-Recognition/data/audio/common_voice_id_26251135.mp3', '/content/Tugas-Besar-Automatic-Speech-Recognition/data/audio/common_voice_id_26254924.mp3', '/content/Tugas-Besar-Automatic-Speech-Recognition/data/audio/common_voice_id_26591822.mp3', '/content/Tugas-Besar-Automatic-Speech-Recognition/data/audio/common_voice_id_26664950.mp3', '/content/Tugas-Besar-Automatic-Speech-Recognition/data/audio/common_voice_id_26664972.mp3', '/content/Tugas-Besar-Automatic-Speech-Recognition/data/audio/common_voice_id_26665032.mp3', '/content/Tugas-Besar-Automatic-Speech-Recognition/data/audio/common_voice_id_26674400.mp3']\n"
          ]
        },
        {
          "output_type": "display_data",
          "data": {
            "text/plain": [
              "Map:   0%|          | 0/207 [00:00<?, ? examples/s]"
            ],
            "application/vnd.jupyter.widget-view+json": {
              "version_major": 2,
              "version_minor": 0,
              "model_id": "66be6e68517e439eadd465982684e976"
            }
          },
          "metadata": {}
        },
        {
          "output_type": "stream",
          "name": "stdout",
          "text": [
            "Audio Files: ['/content/Tugas-Besar-Automatic-Speech-Recognition/data/audio_test/common_voice_id_26831395.mp3', '/content/Tugas-Besar-Automatic-Speech-Recognition/data/audio_test/common_voice_id_26831401.mp3', '/content/Tugas-Besar-Automatic-Speech-Recognition/data/audio_test/common_voice_id_27160502.mp3', '/content/Tugas-Besar-Automatic-Speech-Recognition/data/audio_test/common_voice_id_27180100.mp3', '/content/Tugas-Besar-Automatic-Speech-Recognition/data/audio_test/common_voice_id_27204052.mp3', '/content/Tugas-Besar-Automatic-Speech-Recognition/data/audio_test/common_voice_id_27341350.mp3', '/content/Tugas-Besar-Automatic-Speech-Recognition/data/audio_test/common_voice_id_27370297.mp3', '/content/Tugas-Besar-Automatic-Speech-Recognition/data/audio_test/common_voice_id_27374100.mp3', '/content/Tugas-Besar-Automatic-Speech-Recognition/data/audio_test/common_voice_id_27451104.mp3', '/content/Tugas-Besar-Automatic-Speech-Recognition/data/audio_test/common_voice_id_27457826.mp3', '/content/Tugas-Besar-Automatic-Speech-Recognition/data/audio_test/common_voice_id_27457962.mp3', '/content/Tugas-Besar-Automatic-Speech-Recognition/data/audio_test/common_voice_id_27599718.mp3', '/content/Tugas-Besar-Automatic-Speech-Recognition/data/audio_test/common_voice_id_27600453.mp3', '/content/Tugas-Besar-Automatic-Speech-Recognition/data/audio_test/common_voice_id_27628500.mp3', '/content/Tugas-Besar-Automatic-Speech-Recognition/data/audio_test/common_voice_id_27795428.mp3', '/content/Tugas-Besar-Automatic-Speech-Recognition/data/audio_test/common_voice_id_27806027.mp3', '/content/Tugas-Besar-Automatic-Speech-Recognition/data/audio_test/common_voice_id_27830024.mp3', '/content/Tugas-Besar-Automatic-Speech-Recognition/data/audio_test/common_voice_id_27854122.mp3', '/content/Tugas-Besar-Automatic-Speech-Recognition/data/audio_test/common_voice_id_27857987.mp3', '/content/Tugas-Besar-Automatic-Speech-Recognition/data/audio_test/common_voice_id_27858097.mp3', '/content/Tugas-Besar-Automatic-Speech-Recognition/data/audio_test/common_voice_id_27865663.mp3', '/content/Tugas-Besar-Automatic-Speech-Recognition/data/audio_test/common_voice_id_28049405.mp3', '/content/Tugas-Besar-Automatic-Speech-Recognition/data/audio_test/common_voice_id_28497151.mp3', '/content/Tugas-Besar-Automatic-Speech-Recognition/data/audio_test/common_voice_id_28808127.mp3', '/content/Tugas-Besar-Automatic-Speech-Recognition/data/audio_test/common_voice_id_29614161.mp3', '/content/Tugas-Besar-Automatic-Speech-Recognition/data/audio_test/common_voice_id_30471970.mp3', '/content/Tugas-Besar-Automatic-Speech-Recognition/data/audio_test/common_voice_id_30534744.mp3', '/content/Tugas-Besar-Automatic-Speech-Recognition/data/audio_test/common_voice_id_31097534.mp3', '/content/Tugas-Besar-Automatic-Speech-Recognition/data/audio_test/common_voice_id_32512850.mp3', '/content/Tugas-Besar-Automatic-Speech-Recognition/data/audio_test/common_voice_id_32866658.mp3', '/content/Tugas-Besar-Automatic-Speech-Recognition/data/audio_test/common_voice_id_33073238.mp3', '/content/Tugas-Besar-Automatic-Speech-Recognition/data/audio_test/common_voice_id_33334017.mp3', '/content/Tugas-Besar-Automatic-Speech-Recognition/data/audio_test/common_voice_id_34426369.mp3', '/content/Tugas-Besar-Automatic-Speech-Recognition/data/audio_test/common_voice_id_35282244.mp3', '/content/Tugas-Besar-Automatic-Speech-Recognition/data/audio_test/common_voice_id_35285101.mp3', '/content/Tugas-Besar-Automatic-Speech-Recognition/data/audio_test/common_voice_id_35323555.mp3', '/content/Tugas-Besar-Automatic-Speech-Recognition/data/audio_test/common_voice_id_35373025.mp3', '/content/Tugas-Besar-Automatic-Speech-Recognition/data/audio_test/common_voice_id_35373094.mp3', '/content/Tugas-Besar-Automatic-Speech-Recognition/data/audio_test/common_voice_id_35377936.mp3', '/content/Tugas-Besar-Automatic-Speech-Recognition/data/audio_test/common_voice_id_35404011.mp3', '/content/Tugas-Besar-Automatic-Speech-Recognition/data/audio_test/common_voice_id_35508056.mp3', '/content/Tugas-Besar-Automatic-Speech-Recognition/data/audio_test/common_voice_id_35508191.mp3', '/content/Tugas-Besar-Automatic-Speech-Recognition/data/audio_test/common_voice_id_35627193.mp3', '/content/Tugas-Besar-Automatic-Speech-Recognition/data/audio_test/common_voice_id_35628287.mp3', '/content/Tugas-Besar-Automatic-Speech-Recognition/data/audio_test/common_voice_id_35864117.mp3', '/content/Tugas-Besar-Automatic-Speech-Recognition/data/audio_test/common_voice_id_35950531.mp3', '/content/Tugas-Besar-Automatic-Speech-Recognition/data/audio_test/common_voice_id_36986584.mp3', '/content/Tugas-Besar-Automatic-Speech-Recognition/data/audio_test/common_voice_id_37072058.mp3', '/content/Tugas-Besar-Automatic-Speech-Recognition/data/audio_test/common_voice_id_37072193.mp3', '/content/Tugas-Besar-Automatic-Speech-Recognition/data/audio_test/common_voice_id_40620690.mp3', '/content/Tugas-Besar-Automatic-Speech-Recognition/data/audio_test/common_voice_id_40699728.mp3']\n"
          ]
        },
        {
          "output_type": "display_data",
          "data": {
            "text/plain": [
              "Map:   0%|          | 0/51 [00:00<?, ? examples/s]"
            ],
            "application/vnd.jupyter.widget-view+json": {
              "version_major": 2,
              "version_minor": 0,
              "model_id": "c8b4f1d9a1df45169590e18b4e0b6f02"
            }
          },
          "metadata": {}
        }
      ]
    },
    {
      "cell_type": "code",
      "source": [
        "# training hyperparameters, eksperimen di sini\n",
        "from torch.optim import AdamW\n",
        "from transformers import get_scheduler\n",
        "\n",
        "optimizer = AdamW(model.parameters(), lr=5e-5)\n",
        "\n",
        "training_args = Seq2SeqTrainingArguments(\n",
        "    output_dir=\"../models/checkpoints/\",\n",
        "    run_name=\"my_training_run\",\n",
        "    eval_strategy=\"epoch\",\n",
        "    learning_rate=5e-5,\n",
        "    per_device_train_batch_size=4,\n",
        "    num_train_epochs=2,\n",
        "    save_strategy=\"epoch\",\n",
        "    predict_with_generate=True,\n",
        "    fp16=True,\n",
        "    logging_strategy=\"steps\",\n",
        "    logging_steps=10,\n",
        ")\n",
        "\n",
        "num_training_steps = len(train_dataset) // training_args.per_device_train_batch_size * training_args.num_train_epochs\n",
        "scheduler = get_scheduler(\n",
        "    name=\"linear\",\n",
        "    optimizer=optimizer,\n",
        "    num_warmup_steps=0,\n",
        "    num_training_steps=num_training_steps,\n",
        ")\n",
        "\n",
        "trainer = Seq2SeqTrainer(\n",
        "    model=model,\n",
        "    args=training_args,\n",
        "    train_dataset=train_dataset,\n",
        "    eval_dataset=eval_dataset,\n",
        "    tokenizer=None,\n",
        "    data_collator=data_collator,\n",
        "    optimizers=(optimizer, scheduler)\n",
        ")"
      ],
      "metadata": {
        "colab": {
          "base_uri": "https://localhost:8080/"
        },
        "id": "qmqqdKslKn7l",
        "outputId": "640c0603-419d-4c01-9ed6-ce71445002e4"
      },
      "execution_count": null,
      "outputs": [
        {
          "output_type": "stream",
          "name": "stderr",
          "text": [
            "Using the `WANDB_DISABLED` environment variable is deprecated and will be removed in v5. Use the --report_to flag to control the integrations used for logging result (for instance --report_to none).\n",
            "<ipython-input-28-26766712e6ee>:29: FutureWarning: `tokenizer` is deprecated and will be removed in version 5.0.0 for `Seq2SeqTrainer.__init__`. Use `processing_class` instead.\n",
            "  trainer = Seq2SeqTrainer(\n"
          ]
        }
      ]
    },
    {
      "cell_type": "code",
      "source": [
        "import os\n",
        "os.environ[\"WANDB_MODE\"] = \"offline\"\n",
        "os.environ[\"WANDB_DISABLED\"] = \"true\""
      ],
      "metadata": {
        "id": "U0po7SB7UreY"
      },
      "execution_count": null,
      "outputs": []
    },
    {
      "cell_type": "code",
      "source": [
        "trainer.train()"
      ],
      "metadata": {
        "colab": {
          "base_uri": "https://localhost:8080/",
          "height": 174
        },
        "id": "Z8J1R9hFKrV9",
        "outputId": "a855496e-6451-4928-80ab-0aabbdcb534a"
      },
      "execution_count": null,
      "outputs": [
        {
          "output_type": "display_data",
          "data": {
            "text/plain": [
              "<IPython.core.display.HTML object>"
            ],
            "text/html": [
              "\n",
              "    <div>\n",
              "      \n",
              "      <progress value='104' max='104' style='width:300px; height:20px; vertical-align: middle;'></progress>\n",
              "      [104/104 05:42, Epoch 2/2]\n",
              "    </div>\n",
              "    <table border=\"1\" class=\"dataframe\">\n",
              "  <thead>\n",
              " <tr style=\"text-align: left;\">\n",
              "      <th>Epoch</th>\n",
              "      <th>Training Loss</th>\n",
              "      <th>Validation Loss</th>\n",
              "    </tr>\n",
              "  </thead>\n",
              "  <tbody>\n",
              "    <tr>\n",
              "      <td>1</td>\n",
              "      <td>0.066000</td>\n",
              "      <td>0.211345</td>\n",
              "    </tr>\n",
              "    <tr>\n",
              "      <td>2</td>\n",
              "      <td>0.025900</td>\n",
              "      <td>0.209722</td>\n",
              "    </tr>\n",
              "  </tbody>\n",
              "</table><p>"
            ]
          },
          "metadata": {}
        },
        {
          "output_type": "execute_result",
          "data": {
            "text/plain": [
              "TrainOutput(global_step=104, training_loss=0.08931764945960961, metrics={'train_runtime': 344.3015, 'train_samples_per_second': 1.202, 'train_steps_per_second': 0.302, 'total_flos': 1.1947435573248e+17, 'train_loss': 0.08931764945960961, 'epoch': 2.0})"
            ]
          },
          "metadata": {},
          "execution_count": 27
        }
      ]
    },
    {
      "cell_type": "code",
      "source": [
        "model.save_pretrained(\"output\")"
      ],
      "metadata": {
        "id": "iQhb_D0NV10C"
      },
      "execution_count": null,
      "outputs": []
    },
    {
      "cell_type": "code",
      "source": [
        "results = trainer.evaluate()\n",
        "print(\"Hasil evaluasi:\", results)"
      ],
      "metadata": {
        "colab": {
          "base_uri": "https://localhost:8080/",
          "height": 55
        },
        "id": "oEy5NrUFc0yA",
        "outputId": "4b078002-b4b1-4618-f917-004baf228257"
      },
      "execution_count": null,
      "outputs": [
        {
          "output_type": "display_data",
          "data": {
            "text/plain": [
              "<IPython.core.display.HTML object>"
            ],
            "text/html": [
              "\n",
              "    <div>\n",
              "      \n",
              "      <progress value='7' max='7' style='width:300px; height:20px; vertical-align: middle;'></progress>\n",
              "      [7/7 00:06]\n",
              "    </div>\n",
              "    "
            ]
          },
          "metadata": {}
        },
        {
          "output_type": "stream",
          "name": "stdout",
          "text": [
            "Hasil evaluasi: {'eval_loss': 0.19525191187858582, 'eval_runtime': 8.9509, 'eval_samples_per_second': 5.698, 'eval_steps_per_second': 0.782, 'epoch': 2.0}\n"
          ]
        }
      ]
    },
    {
      "cell_type": "code",
      "source": [
        "from jiwer import wer\n",
        "import torch\n",
        "from torch.utils.data import DataLoader\n",
        "from tqdm import tqdm\n",
        "import numpy as np\n",
        "\n",
        "def evaluate_model(model, eval_dataset, processor, data_collator, device='cuda', batch_size=8):\n",
        "\n",
        "    eval_dataloader = DataLoader(\n",
        "        eval_dataset,\n",
        "        batch_size=batch_size,\n",
        "        collate_fn=data_collator\n",
        "    )\n",
        "\n",
        "    model.eval()\n",
        "    model.to(device)\n",
        "\n",
        "    all_predictions = []\n",
        "    all_references = []\n",
        "\n",
        "    with torch.no_grad():\n",
        "        for batch in tqdm(eval_dataloader, desc=\"Evaluating\"):\n",
        "            input_features = batch[\"input_features\"].to(device)\n",
        "\n",
        "            predicted_ids = model.generate(input_features)\n",
        "\n",
        "            transcription = processor.batch_decode(predicted_ids, skip_special_tokens=True)\n",
        "\n",
        "            labels = batch[\"labels\"]\n",
        "            reference = processor.tokenizer.batch_decode(labels, skip_special_tokens=True)\n",
        "\n",
        "            all_predictions.extend(transcription)\n",
        "            all_references.extend(reference)\n",
        "\n",
        "    wer_val = wer(all_predictions, all_references)\n",
        "\n",
        "    return {\n",
        "        \"wer\": wer_val,\n",
        "        \"predictions\": all_predictions,\n",
        "        \"references\": all_references\n",
        "    }\n",
        "\n",
        "device = torch.device(\"cuda\" if torch.cuda.is_available() else \"cpu\")\n",
        "print(f\"Using device: {device}\")\n",
        "\n",
        "results = evaluate_model(\n",
        "    model=model,\n",
        "    eval_dataset=eval_dataset,\n",
        "    processor=processor,\n",
        "    data_collator=data_collator,\n",
        "    device=device,\n",
        "    batch_size=8\n",
        ")\n",
        "\n",
        "print(f\"\\nEvaluation Results:\")\n",
        "print(f\"Word Error Rate (WER): {results['wer']:.4f}\")\n",
        "\n",
        "print(\"\\nSample Predictions vs References:\")\n",
        "for pred, ref in zip(results['predictions'][:5], results['references'][:5]):\n",
        "    print(f\"\\nPrediction: {pred}\")\n",
        "    print(f\"Reference:  {ref}\")"
      ],
      "metadata": {
        "colab": {
          "base_uri": "https://localhost:8080/"
        },
        "id": "soP8FI0F-tBl",
        "outputId": "c4c77495-afb2-4023-e98a-df749fe7a06b"
      },
      "execution_count": null,
      "outputs": [
        {
          "output_type": "stream",
          "name": "stdout",
          "text": [
            "Using device: cuda\n"
          ]
        },
        {
          "output_type": "stream",
          "name": "stderr",
          "text": [
            "Evaluating:   0%|          | 0/7 [00:00<?, ?it/s]The attention mask is not set and cannot be inferred from input because pad token is same as eos token. As a consequence, you may observe unexpected behavior. Please pass your input's `attention_mask` to obtain reliable results.\n",
            "Evaluating: 100%|██████████| 7/7 [00:20<00:00,  2.88s/it]"
          ]
        },
        {
          "output_type": "stream",
          "name": "stdout",
          "text": [
            "\n",
            "Evaluation Results:\n",
            "Word Error Rate (WER): 0.1523\n",
            "\n",
            "Sample Predictions vs References:\n",
            "\n",
            "Prediction: Kita tidak sampai harus menjual rumah kita.\n",
            "Reference:  Kita tidak sampai harus menjual rumah kita.\n",
            "\n",
            "Prediction: Biasanya ada banyak penjual kue di sana.\n",
            "Reference:  Biasanya ada banyak penjual kue di sana.\n",
            "\n",
            "Prediction: Tiketan tidak harus menjualnya.\n",
            "Reference:  Kita tidak harus menjualnya.\n",
            "\n",
            "Prediction: mengapa dia tinggal pembeli?\n",
            "Reference:  mengapa tidak dijual saja?\n",
            "\n",
            "Prediction: Aku ingin membuat penawaran.\n",
            "Reference:  Aku ingin membuat penawaran.\n"
          ]
        },
        {
          "output_type": "stream",
          "name": "stderr",
          "text": [
            "\n"
          ]
        }
      ]
    }
  ]
}